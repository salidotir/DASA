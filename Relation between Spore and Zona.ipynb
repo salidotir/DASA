{
 "cells": [
  {
   "cell_type": "code",
   "execution_count": null,
   "id": "ba76329d-57e6-48fa-9417-969017546fa3",
   "metadata": {},
   "outputs": [],
   "source": [
    "import pandas as pd\n",
    "\n",
    "# Replace 'your_file.xlsx' with the actual path to your Excel file\n",
    "file_path = '/Users/satvikbisht/Documents/Polimi/Semester 3/DataAnalyticsForAgriculture/Data/datasetgeoInfo.xlsx'\n",
    "\n",
    "# Read the Excel file into a DataFrame\n",
    "df = pd.read_excel(file_path)\n",
    "\n",
    "# Display the DataFrame\n",
    "print(df)"
   ]
  },
  {
   "cell_type": "code",
   "execution_count": 20,
   "id": "edeebabd-77c1-4e2f-ab6f-5277a491e582",
   "metadata": {},
   "outputs": [],
   "source": [
    "grouped_data = df.groupby('zona')['spore'].mean().reset_index()"
   ]
  },
  {
   "cell_type": "code",
   "execution_count": 21,
   "id": "2bb3d547-5e4b-47e0-95ec-3721b6f2888a",
   "metadata": {},
   "outputs": [
    {
     "data": {
      "text/html": [
       "<div>\n",
       "<style scoped>\n",
       "    .dataframe tbody tr th:only-of-type {\n",
       "        vertical-align: middle;\n",
       "    }\n",
       "\n",
       "    .dataframe tbody tr th {\n",
       "        vertical-align: top;\n",
       "    }\n",
       "\n",
       "    .dataframe thead th {\n",
       "        text-align: right;\n",
       "    }\n",
       "</style>\n",
       "<table border=\"1\" class=\"dataframe\">\n",
       "  <thead>\n",
       "    <tr style=\"text-align: right;\">\n",
       "      <th></th>\n",
       "      <th>zona</th>\n",
       "      <th>spore</th>\n",
       "    </tr>\n",
       "  </thead>\n",
       "  <tbody>\n",
       "    <tr>\n",
       "      <th>0</th>\n",
       "      <td>Alta Valtellina</td>\n",
       "      <td>507.871111</td>\n",
       "    </tr>\n",
       "    <tr>\n",
       "      <th>1</th>\n",
       "      <td>Bassa Valtellina</td>\n",
       "      <td>602.672811</td>\n",
       "    </tr>\n",
       "    <tr>\n",
       "      <th>2</th>\n",
       "      <td>Lago Di Como</td>\n",
       "      <td>1246.586207</td>\n",
       "    </tr>\n",
       "    <tr>\n",
       "      <th>3</th>\n",
       "      <td>Media Valtellina</td>\n",
       "      <td>1078.256351</td>\n",
       "    </tr>\n",
       "    <tr>\n",
       "      <th>4</th>\n",
       "      <td>Valchiavenna</td>\n",
       "      <td>383.153731</td>\n",
       "    </tr>\n",
       "  </tbody>\n",
       "</table>\n",
       "</div>"
      ],
      "text/plain": [
       "               zona        spore\n",
       "0   Alta Valtellina   507.871111\n",
       "1  Bassa Valtellina   602.672811\n",
       "2      Lago Di Como  1246.586207\n",
       "3  Media Valtellina  1078.256351\n",
       "4      Valchiavenna   383.153731"
      ]
     },
     "execution_count": 21,
     "metadata": {},
     "output_type": "execute_result"
    }
   ],
   "source": [
    "grouped_data"
   ]
  },
  {
   "cell_type": "code",
   "execution_count": 22,
   "id": "92e95d3a-2074-4f88-9eba-890a80ab8ad4",
   "metadata": {},
   "outputs": [
    {
     "name": "stdout",
     "output_type": "stream",
     "text": [
      "One-way ANOVA p-value: 1.2623105241769927e-40\n"
     ]
    }
   ],
   "source": [
    "from scipy.stats import f_oneway\n",
    "\n",
    "# Perform one-way ANOVA\n",
    "anova_result = f_oneway(*[group['spore'] for name, group in df.groupby('zona')])\n",
    "\n",
    "# Display the ANOVA results\n",
    "print(f\"One-way ANOVA p-value: {anova_result.pvalue}\")\n",
    "\n",
    "# If p-value is significant, you can explore post-hoc tests to identify specific differences between locations\n"
   ]
  },
  {
   "cell_type": "markdown",
   "id": "7bef0860-9a48-47f1-a8a9-8df3c54a2179",
   "metadata": {},
   "source": [
    "The p-value you obtained (1.2623105241769927e-40) in the one-way ANOVA test is extremely small, close to zero. This suggests strong evidence to reject the null hypothesis, indicating that there are significant differences in mean spore counts among at least two locations."
   ]
  },
  {
   "cell_type": "code",
   "execution_count": null,
   "id": "f7884f74-937b-47a7-a198-d5f88c77c004",
   "metadata": {},
   "outputs": [],
   "source": [
    "import statsmodels.api as sm\n",
    "from statsmodels.stats.multicomp import pairwise_tukeyhsd\n",
    "\n",
    "\n",
    "# Perform Tukey-Kramer post-hoc test\n",
    "tukey_results = pairwise_tukeyhsd(df['spore'], df['zona'], alpha=0.05)\n",
    "\n",
    "# Display the Tukey-Kramer results\n",
    "print(tukey_results)\n"
   ]
  },
  {
   "cell_type": "markdown",
   "id": "be460d0d-fc20-434a-b17e-f6d841a73f9b",
   "metadata": {},
   "source": [
    "Certainly! From the Tukey-Kramer post-hoc test results:\n",
    "\n",
    "Locations with Higher Spore Counts (Compared to 'Alta Valtellina'):\n",
    "\n",
    "'Lago Di Como': The mean spore count in 'Lago Di Como' is significantly higher than in 'Alta Valtellina.'\n",
    "'Media Valtellina': The mean spore count in 'Media Valtellina' is significantly higher than in 'Alta Valtellina.'\n",
    "'Valchiavenna': The mean spore count in 'Valchiavenna' is significantly higher than in 'Alta Valtellina.'\n",
    "Locations with Lower Spore Counts (Compared to 'Alta Valtellina'):\n",
    "\n",
    "'Bassa Valtellina': The mean spore count in 'Bassa Valtellina' is not significantly different from 'Alta Valtellina.'\n",
    "Comparisons Between Other Locations:\n",
    "\n",
    "'Lago Di Como' has significantly higher mean spore counts than 'Media Valtellina' and 'Valchiavenna.'\n",
    "'Media Valtellina' has significantly higher mean spore counts than 'Valchiavenna.'\n",
    "Overall Summary:\n",
    "\n",
    "If the goal is to have lower spore counts, 'Bassa Valtellina' is not significantly different from 'Alta Valtellina,' while 'Alta Valtellina' has significantly lower spore counts compared to 'Lago Di Como,' 'Media Valtellina,' and 'Valchiavenna.'\n",
    "Among the other locations, 'Bassa Valtellina' has the lowest mean spore counts.\n",
    "Remember that these findings are based on statistical comparisons, and the term \"better\" depends on your specific context and objectives. If lower spore counts are considered desirable, 'Bassa Valtellina' seems to have an advantage in this analysis."
   ]
  },
  {
   "cell_type": "code",
   "execution_count": null,
   "id": "656e3c88-113c-4f76-b940-9473262c38e5",
   "metadata": {},
   "outputs": [],
   "source": []
  }
 ],
 "metadata": {
  "kernelspec": {
   "display_name": "Python 3 (ipykernel)",
   "language": "python",
   "name": "python3"
  },
  "language_info": {
   "codemirror_mode": {
    "name": "ipython",
    "version": 3
   },
   "file_extension": ".py",
   "mimetype": "text/x-python",
   "name": "python",
   "nbconvert_exporter": "python",
   "pygments_lexer": "ipython3",
   "version": "3.9.13"
  }
 },
 "nbformat": 4,
 "nbformat_minor": 5
}
